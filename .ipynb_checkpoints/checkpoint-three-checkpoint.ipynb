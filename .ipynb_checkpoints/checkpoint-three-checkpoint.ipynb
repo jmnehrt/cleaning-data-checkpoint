{
 "cells": [
  {
   "attachments": {},
   "cell_type": "markdown",
   "metadata": {
    "azdata_cell_guid": "26037d32-2047-4157-81ef-595916bd66a0"
   },
   "source": [
    "# Checkpoint Three: Cleaning Data\n",
    "\n",
    "Now you are ready to clean your data. Before starting coding, provide the link to your dataset below.\n",
    "\n",
    "My dataset: https://www.kaggle.com/datasets/city-of-seattle/seattle-parks-and-recreation-data \n",
    "\n",
    "Import the necessary libraries and create your dataframe(s)."
   ]
  },
  {
   "cell_type": "code",
   "execution_count": 17,
   "metadata": {
    "azdata_cell_guid": "e8adef8e-d0f2-4640-a179-5997f11e82ca"
   },
   "outputs": [
    {
     "data": {
      "text/html": [
       "<div>\n",
       "<style scoped>\n",
       "    .dataframe tbody tr th:only-of-type {\n",
       "        vertical-align: middle;\n",
       "    }\n",
       "\n",
       "    .dataframe tbody tr th {\n",
       "        vertical-align: top;\n",
       "    }\n",
       "\n",
       "    .dataframe thead th {\n",
       "        text-align: right;\n",
       "    }\n",
       "</style>\n",
       "<table border=\"1\" class=\"dataframe\">\n",
       "  <thead>\n",
       "    <tr style=\"text-align: right;\">\n",
       "      <th></th>\n",
       "      <th>course_id</th>\n",
       "      <th>barcode_number</th>\n",
       "      <th>ActivityTitle</th>\n",
       "      <th>ActivityDescription</th>\n",
       "      <th>alert_text</th>\n",
       "      <th>confirmation_text</th>\n",
       "      <th>BrochureSectionTitle</th>\n",
       "      <th>BrochureSectionDescription</th>\n",
       "      <th>session_year</th>\n",
       "      <th>session_title_id</th>\n",
       "      <th>...</th>\n",
       "      <th>DataTransferred</th>\n",
       "      <th>reg_start_time</th>\n",
       "      <th>reg_end_date</th>\n",
       "      <th>AvailableSpaces</th>\n",
       "      <th>allow_internet_registration</th>\n",
       "      <th>age_as_of</th>\n",
       "      <th>age_as_of_date</th>\n",
       "      <th>required_forms</th>\n",
       "      <th>Location 1</th>\n",
       "      <th>Location 2</th>\n",
       "    </tr>\n",
       "  </thead>\n",
       "  <tbody>\n",
       "    <tr>\n",
       "      <th>0</th>\n",
       "      <td>154088</td>\n",
       "      <td>153664</td>\n",
       "      <td>*Canoeing &amp; Kayaking</td>\n",
       "      <td>Paddle away! Explore the diverse paddling oppo...</td>\n",
       "      <td>Please request a Float Test Form or review sta...</td>\n",
       "      <td>NaN</td>\n",
       "      <td>Boating</td>\n",
       "      <td>Water craft activities; including but not limi...</td>\n",
       "      <td>2017</td>\n",
       "      <td>3</td>\n",
       "      <td>...</td>\n",
       "      <td>2017-11-28T15:29:00</td>\n",
       "      <td>12:00:00 PM</td>\n",
       "      <td>2017-08-31T00:00:00</td>\n",
       "      <td>58</td>\n",
       "      <td>0</td>\n",
       "      <td>1</td>\n",
       "      <td>NaN</td>\n",
       "      <td>NaN</td>\n",
       "      <td>NaN</td>\n",
       "      <td>NaN</td>\n",
       "    </tr>\n",
       "    <tr>\n",
       "      <th>1</th>\n",
       "      <td>155158</td>\n",
       "      <td>154725</td>\n",
       "      <td>*Rowing</td>\n",
       "      <td>Stroke! Become part of a team and condition yo...</td>\n",
       "      <td>Please request a float test form or review flo...</td>\n",
       "      <td>NaN</td>\n",
       "      <td>Boating</td>\n",
       "      <td>Water craft activities; including but not limi...</td>\n",
       "      <td>2017</td>\n",
       "      <td>4</td>\n",
       "      <td>...</td>\n",
       "      <td>2017-11-28T15:29:00</td>\n",
       "      <td>12:00:00 PM</td>\n",
       "      <td>2017-11-24T00:00:00</td>\n",
       "      <td>29</td>\n",
       "      <td>1</td>\n",
       "      <td>1</td>\n",
       "      <td>NaN</td>\n",
       "      <td>NaN</td>\n",
       "      <td>NaN</td>\n",
       "      <td>NaN</td>\n",
       "    </tr>\n",
       "    <tr>\n",
       "      <th>2</th>\n",
       "      <td>155159</td>\n",
       "      <td>154726</td>\n",
       "      <td>*Rowing</td>\n",
       "      <td>Stroke! Become part of a team and condition yo...</td>\n",
       "      <td>Please request a float test form or review flo...</td>\n",
       "      <td>NaN</td>\n",
       "      <td>Boating</td>\n",
       "      <td>Water craft activities; including but not limi...</td>\n",
       "      <td>2017</td>\n",
       "      <td>4</td>\n",
       "      <td>...</td>\n",
       "      <td>2017-11-28T15:29:00</td>\n",
       "      <td>12:00:00 PM</td>\n",
       "      <td>2017-10-27T00:00:00</td>\n",
       "      <td>24</td>\n",
       "      <td>0</td>\n",
       "      <td>1</td>\n",
       "      <td>NaN</td>\n",
       "      <td>NaN</td>\n",
       "      <td>NaN</td>\n",
       "      <td>NaN</td>\n",
       "    </tr>\n",
       "    <tr>\n",
       "      <th>3</th>\n",
       "      <td>155343</td>\n",
       "      <td>154910</td>\n",
       "      <td>*Fitness &amp; Conditioning</td>\n",
       "      <td>Get your erg on! Increase your strength and en...</td>\n",
       "      <td>NaN</td>\n",
       "      <td>NaN</td>\n",
       "      <td>Boating</td>\n",
       "      <td>Water craft activities; including but not limi...</td>\n",
       "      <td>2017</td>\n",
       "      <td>4</td>\n",
       "      <td>...</td>\n",
       "      <td>2017-11-28T15:29:00</td>\n",
       "      <td>12:00:00 PM</td>\n",
       "      <td>2017-11-03T00:00:00</td>\n",
       "      <td>4</td>\n",
       "      <td>0</td>\n",
       "      <td>1</td>\n",
       "      <td>NaN</td>\n",
       "      <td>NaN</td>\n",
       "      <td>NaN</td>\n",
       "      <td>NaN</td>\n",
       "    </tr>\n",
       "    <tr>\n",
       "      <th>4</th>\n",
       "      <td>155344</td>\n",
       "      <td>154911</td>\n",
       "      <td>*Fitness &amp; Conditioning</td>\n",
       "      <td>Get your erg on! Increase your strength and en...</td>\n",
       "      <td>NaN</td>\n",
       "      <td>NaN</td>\n",
       "      <td>Boating</td>\n",
       "      <td>Water craft activities; including but not limi...</td>\n",
       "      <td>2017</td>\n",
       "      <td>4</td>\n",
       "      <td>...</td>\n",
       "      <td>2017-11-28T15:29:00</td>\n",
       "      <td>12:00:00 PM</td>\n",
       "      <td>2017-11-03T00:00:00</td>\n",
       "      <td>-3</td>\n",
       "      <td>0</td>\n",
       "      <td>1</td>\n",
       "      <td>NaN</td>\n",
       "      <td>NaN</td>\n",
       "      <td>NaN</td>\n",
       "      <td>NaN</td>\n",
       "    </tr>\n",
       "  </tbody>\n",
       "</table>\n",
       "<p>5 rows × 46 columns</p>\n",
       "</div>"
      ],
      "text/plain": [
       "   course_id  barcode_number            ActivityTitle  \\\n",
       "0     154088          153664     *Canoeing & Kayaking   \n",
       "1     155158          154725                  *Rowing   \n",
       "2     155159          154726                  *Rowing   \n",
       "3     155343          154910  *Fitness & Conditioning   \n",
       "4     155344          154911  *Fitness & Conditioning   \n",
       "\n",
       "                                 ActivityDescription  \\\n",
       "0  Paddle away! Explore the diverse paddling oppo...   \n",
       "1  Stroke! Become part of a team and condition yo...   \n",
       "2  Stroke! Become part of a team and condition yo...   \n",
       "3  Get your erg on! Increase your strength and en...   \n",
       "4  Get your erg on! Increase your strength and en...   \n",
       "\n",
       "                                          alert_text confirmation_text  \\\n",
       "0  Please request a Float Test Form or review sta...               NaN   \n",
       "1  Please request a float test form or review flo...               NaN   \n",
       "2  Please request a float test form or review flo...               NaN   \n",
       "3                                                NaN               NaN   \n",
       "4                                                NaN               NaN   \n",
       "\n",
       "  BrochureSectionTitle                         BrochureSectionDescription  \\\n",
       "0              Boating  Water craft activities; including but not limi...   \n",
       "1              Boating  Water craft activities; including but not limi...   \n",
       "2              Boating  Water craft activities; including but not limi...   \n",
       "3              Boating  Water craft activities; including but not limi...   \n",
       "4              Boating  Water craft activities; including but not limi...   \n",
       "\n",
       "   session_year  session_title_id  ...      DataTransferred reg_start_time  \\\n",
       "0          2017                 3  ...  2017-11-28T15:29:00    12:00:00 PM   \n",
       "1          2017                 4  ...  2017-11-28T15:29:00    12:00:00 PM   \n",
       "2          2017                 4  ...  2017-11-28T15:29:00    12:00:00 PM   \n",
       "3          2017                 4  ...  2017-11-28T15:29:00    12:00:00 PM   \n",
       "4          2017                 4  ...  2017-11-28T15:29:00    12:00:00 PM   \n",
       "\n",
       "          reg_end_date AvailableSpaces allow_internet_registration age_as_of  \\\n",
       "0  2017-08-31T00:00:00              58                           0         1   \n",
       "1  2017-11-24T00:00:00              29                           1         1   \n",
       "2  2017-10-27T00:00:00              24                           0         1   \n",
       "3  2017-11-03T00:00:00               4                           0         1   \n",
       "4  2017-11-03T00:00:00              -3                           0         1   \n",
       "\n",
       "  age_as_of_date  required_forms Location 1  Location 2  \n",
       "0            NaN             NaN        NaN         NaN  \n",
       "1            NaN             NaN        NaN         NaN  \n",
       "2            NaN             NaN        NaN         NaN  \n",
       "3            NaN             NaN        NaN         NaN  \n",
       "4            NaN             NaN        NaN         NaN  \n",
       "\n",
       "[5 rows x 46 columns]"
      ]
     },
     "execution_count": 17,
     "metadata": {},
     "output_type": "execute_result"
    }
   ],
   "source": [
    "# import libraries for working with the dataframe and visualizations\n",
    "import pandas as pd\n",
    "import numpy as np\n",
    "import matplotlib as plt\n",
    "\n",
    "# pull my .csv file in as a dataframe using the read csv\n",
    "# Use the full path to file because this file is stored locally on the device. \n",
    "seattle_df= pd.read_csv(\"c:/Users/jnehr/Documents/LaunchCode/seattle-parks-and-recreation-class-registration-data.csv\")\n",
    "\n",
    "# check the creation of the dataframe:\n",
    "seattle_df.head()\n"
   ]
  },
  {
   "cell_type": "markdown",
   "metadata": {
    "azdata_cell_guid": "e172475a-c4ee-414a-8367-9965355dbba6"
   },
   "source": [
    "## Missing Data\n",
    "\n",
    "Test your dataset for missing data and handle it as needed. Make notes in the form of code comments as to your thought process."
   ]
  },
  {
   "cell_type": "code",
   "execution_count": 18,
   "metadata": {
    "azdata_cell_guid": "e1dc66ef-e471-4c27-92e7-ee878c106eba"
   },
   "outputs": [
    {
     "data": {
      "text/plain": [
       "course_id                         0\n",
       "barcode_number                    0\n",
       "ActivityTitle                     0\n",
       "ActivityDescription              50\n",
       "alert_text                     4844\n",
       "confirmation_text              4886\n",
       "BrochureSectionTitle              0\n",
       "BrochureSectionDescription        0\n",
       "session_year                      0\n",
       "session_title_id                  0\n",
       "session_title                     0\n",
       "course_status_id                  0\n",
       "booking_start_date                0\n",
       "first_start_datetime              0\n",
       "first_end_datetime                0\n",
       "last_start_datetime               0\n",
       "last_end_datetime                 0\n",
       "total_minutes                     0\n",
       "reg_start_date                    0\n",
       "min_registrants                   0\n",
       "max_registrants                   0\n",
       "num_reserved                      0\n",
       "num_registered                    0\n",
       "num_waitlisted                    0\n",
       "min_age                           0\n",
       "min_age_type                      0\n",
       "max_age                           1\n",
       "max_age_type                      0\n",
       "internet_display_date             0\n",
       "CourseTitle                       0\n",
       "CourseDescription                 0\n",
       "Facility                          0\n",
       "CourseSite                        0\n",
       "ManagedBy                         0\n",
       "CourseDays                        0\n",
       "FEE                               0\n",
       "DataTransferred                   0\n",
       "reg_start_time                    0\n",
       "reg_end_date                    356\n",
       "AvailableSpaces                   0\n",
       "allow_internet_registration       0\n",
       "age_as_of                         0\n",
       "age_as_of_date                 4548\n",
       "required_forms                 4503\n",
       "Location 1                     4928\n",
       "Location 2                     4928\n",
       "dtype: int64"
      ]
     },
     "execution_count": 18,
     "metadata": {},
     "output_type": "execute_result"
    }
   ],
   "source": [
    "# Which columns contain null values?\n",
    "# The columns that have nulls can all be dropped except for the Activity Description\n",
    "# (just in case that information is important for clarification beyond the activity title)\n",
    "# the other 7 columns with mostly null values aren't important to the busniess issue \n",
    "\n",
    "seattle_df.isnull().sum()"
   ]
  },
  {
   "cell_type": "code",
   "execution_count": 19,
   "metadata": {},
   "outputs": [
    {
     "data": {
      "text/plain": [
       "(4928, 39)"
      ]
     },
     "execution_count": 19,
     "metadata": {},
     "output_type": "execute_result"
    }
   ],
   "source": [
    "# dropping the columns identified above so I can ignore some of the stats when I run .describe in the next cell\n",
    "df = seattle_df.drop(['alert_text', 'confirmation_text','reg_end_date', 'age_as_of_date',\n",
    "       'required_forms', 'Location 1', 'Location 2'], axis=1)\n",
    "# run .shape to confirm that 7 columns were dropped (46-7=39)\n",
    "df.shape\n"
   ]
  },
  {
   "cell_type": "markdown",
   "metadata": {
    "azdata_cell_guid": "1233f543-e9a0-4f78-96f5-d7536554102e"
   },
   "source": [
    "## Irregular Data\n",
    "\n",
    "Detect outliers in your dataset and handle them as needed. Use code comments to make notes about your thought process."
   ]
  },
  {
   "cell_type": "code",
   "execution_count": 20,
   "metadata": {
    "azdata_cell_guid": "efed50ae-16f0-471d-98e2-632553a74c12"
   },
   "outputs": [
    {
     "data": {
      "text/html": [
       "<div>\n",
       "<style scoped>\n",
       "    .dataframe tbody tr th:only-of-type {\n",
       "        vertical-align: middle;\n",
       "    }\n",
       "\n",
       "    .dataframe tbody tr th {\n",
       "        vertical-align: top;\n",
       "    }\n",
       "\n",
       "    .dataframe thead th {\n",
       "        text-align: right;\n",
       "    }\n",
       "</style>\n",
       "<table border=\"1\" class=\"dataframe\">\n",
       "  <thead>\n",
       "    <tr style=\"text-align: right;\">\n",
       "      <th></th>\n",
       "      <th>course_id</th>\n",
       "      <th>barcode_number</th>\n",
       "      <th>session_year</th>\n",
       "      <th>session_title_id</th>\n",
       "      <th>total_minutes</th>\n",
       "      <th>min_registrants</th>\n",
       "      <th>max_registrants</th>\n",
       "      <th>num_reserved</th>\n",
       "      <th>num_registered</th>\n",
       "      <th>num_waitlisted</th>\n",
       "      <th>min_age</th>\n",
       "      <th>max_age</th>\n",
       "      <th>AvailableSpaces</th>\n",
       "      <th>allow_internet_registration</th>\n",
       "      <th>age_as_of</th>\n",
       "    </tr>\n",
       "  </thead>\n",
       "  <tbody>\n",
       "    <tr>\n",
       "      <th>count</th>\n",
       "      <td>4928.000000</td>\n",
       "      <td>4928.000000</td>\n",
       "      <td>4928.000000</td>\n",
       "      <td>4928.000000</td>\n",
       "      <td>4928.000000</td>\n",
       "      <td>4928.000000</td>\n",
       "      <td>4928.000000</td>\n",
       "      <td>4928.000000</td>\n",
       "      <td>4928.000000</td>\n",
       "      <td>4928.000000</td>\n",
       "      <td>4928.000000</td>\n",
       "      <td>4927.000000</td>\n",
       "      <td>4928.000000</td>\n",
       "      <td>4928.000000</td>\n",
       "      <td>4928.000000</td>\n",
       "    </tr>\n",
       "    <tr>\n",
       "      <th>mean</th>\n",
       "      <td>173099.869115</td>\n",
       "      <td>172231.987825</td>\n",
       "      <td>2017.704748</td>\n",
       "      <td>3.133929</td>\n",
       "      <td>961.546063</td>\n",
       "      <td>6.139610</td>\n",
       "      <td>19.578937</td>\n",
       "      <td>0.023336</td>\n",
       "      <td>3.785511</td>\n",
       "      <td>0.228287</td>\n",
       "      <td>12.877232</td>\n",
       "      <td>40.383195</td>\n",
       "      <td>15.793425</td>\n",
       "      <td>0.031859</td>\n",
       "      <td>1.231331</td>\n",
       "    </tr>\n",
       "    <tr>\n",
       "      <th>std</th>\n",
       "      <td>2845.150156</td>\n",
       "      <td>2833.664032</td>\n",
       "      <td>0.457091</td>\n",
       "      <td>0.676613</td>\n",
       "      <td>5616.593328</td>\n",
       "      <td>3.572439</td>\n",
       "      <td>19.725287</td>\n",
       "      <td>0.187013</td>\n",
       "      <td>8.756989</td>\n",
       "      <td>1.226540</td>\n",
       "      <td>13.978939</td>\n",
       "      <td>45.979347</td>\n",
       "      <td>20.248696</td>\n",
       "      <td>0.175642</td>\n",
       "      <td>0.800381</td>\n",
       "    </tr>\n",
       "    <tr>\n",
       "      <th>min</th>\n",
       "      <td>154088.000000</td>\n",
       "      <td>153664.000000</td>\n",
       "      <td>2016.000000</td>\n",
       "      <td>1.000000</td>\n",
       "      <td>45.000000</td>\n",
       "      <td>1.000000</td>\n",
       "      <td>1.000000</td>\n",
       "      <td>0.000000</td>\n",
       "      <td>0.000000</td>\n",
       "      <td>0.000000</td>\n",
       "      <td>1.000000</td>\n",
       "      <td>1.000000</td>\n",
       "      <td>-177.000000</td>\n",
       "      <td>0.000000</td>\n",
       "      <td>1.000000</td>\n",
       "    </tr>\n",
       "    <tr>\n",
       "      <th>25%</th>\n",
       "      <td>170712.750000</td>\n",
       "      <td>169849.750000</td>\n",
       "      <td>2017.000000</td>\n",
       "      <td>3.000000</td>\n",
       "      <td>270.000000</td>\n",
       "      <td>4.000000</td>\n",
       "      <td>10.000000</td>\n",
       "      <td>0.000000</td>\n",
       "      <td>0.000000</td>\n",
       "      <td>0.000000</td>\n",
       "      <td>5.000000</td>\n",
       "      <td>8.000000</td>\n",
       "      <td>6.000000</td>\n",
       "      <td>0.000000</td>\n",
       "      <td>1.000000</td>\n",
       "    </tr>\n",
       "    <tr>\n",
       "      <th>50%</th>\n",
       "      <td>173730.500000</td>\n",
       "      <td>172857.500000</td>\n",
       "      <td>2018.000000</td>\n",
       "      <td>3.000000</td>\n",
       "      <td>450.000000</td>\n",
       "      <td>5.000000</td>\n",
       "      <td>15.000000</td>\n",
       "      <td>0.000000</td>\n",
       "      <td>0.000000</td>\n",
       "      <td>0.000000</td>\n",
       "      <td>7.000000</td>\n",
       "      <td>12.000000</td>\n",
       "      <td>12.000000</td>\n",
       "      <td>0.000000</td>\n",
       "      <td>1.000000</td>\n",
       "    </tr>\n",
       "    <tr>\n",
       "      <th>75%</th>\n",
       "      <td>175365.250000</td>\n",
       "      <td>174492.250000</td>\n",
       "      <td>2018.000000</td>\n",
       "      <td>4.000000</td>\n",
       "      <td>900.000000</td>\n",
       "      <td>7.000000</td>\n",
       "      <td>24.000000</td>\n",
       "      <td>0.000000</td>\n",
       "      <td>5.000000</td>\n",
       "      <td>0.000000</td>\n",
       "      <td>16.000000</td>\n",
       "      <td>110.000000</td>\n",
       "      <td>20.000000</td>\n",
       "      <td>0.000000</td>\n",
       "      <td>1.000000</td>\n",
       "    </tr>\n",
       "    <tr>\n",
       "      <th>max</th>\n",
       "      <td>176686.000000</td>\n",
       "      <td>175813.000000</td>\n",
       "      <td>2018.000000</td>\n",
       "      <td>4.000000</td>\n",
       "      <td>262800.000000</td>\n",
       "      <td>40.000000</td>\n",
       "      <td>500.000000</td>\n",
       "      <td>5.000000</td>\n",
       "      <td>247.000000</td>\n",
       "      <td>26.000000</td>\n",
       "      <td>55.000000</td>\n",
       "      <td>115.000000</td>\n",
       "      <td>500.000000</td>\n",
       "      <td>1.000000</td>\n",
       "      <td>4.000000</td>\n",
       "    </tr>\n",
       "  </tbody>\n",
       "</table>\n",
       "</div>"
      ],
      "text/plain": [
       "           course_id  barcode_number  session_year  session_title_id  \\\n",
       "count    4928.000000     4928.000000   4928.000000       4928.000000   \n",
       "mean   173099.869115   172231.987825   2017.704748          3.133929   \n",
       "std      2845.150156     2833.664032      0.457091          0.676613   \n",
       "min    154088.000000   153664.000000   2016.000000          1.000000   \n",
       "25%    170712.750000   169849.750000   2017.000000          3.000000   \n",
       "50%    173730.500000   172857.500000   2018.000000          3.000000   \n",
       "75%    175365.250000   174492.250000   2018.000000          4.000000   \n",
       "max    176686.000000   175813.000000   2018.000000          4.000000   \n",
       "\n",
       "       total_minutes  min_registrants  max_registrants  num_reserved  \\\n",
       "count    4928.000000      4928.000000      4928.000000   4928.000000   \n",
       "mean      961.546063         6.139610        19.578937      0.023336   \n",
       "std      5616.593328         3.572439        19.725287      0.187013   \n",
       "min        45.000000         1.000000         1.000000      0.000000   \n",
       "25%       270.000000         4.000000        10.000000      0.000000   \n",
       "50%       450.000000         5.000000        15.000000      0.000000   \n",
       "75%       900.000000         7.000000        24.000000      0.000000   \n",
       "max    262800.000000        40.000000       500.000000      5.000000   \n",
       "\n",
       "       num_registered  num_waitlisted      min_age      max_age  \\\n",
       "count     4928.000000     4928.000000  4928.000000  4927.000000   \n",
       "mean         3.785511        0.228287    12.877232    40.383195   \n",
       "std          8.756989        1.226540    13.978939    45.979347   \n",
       "min          0.000000        0.000000     1.000000     1.000000   \n",
       "25%          0.000000        0.000000     5.000000     8.000000   \n",
       "50%          0.000000        0.000000     7.000000    12.000000   \n",
       "75%          5.000000        0.000000    16.000000   110.000000   \n",
       "max        247.000000       26.000000    55.000000   115.000000   \n",
       "\n",
       "       AvailableSpaces  allow_internet_registration    age_as_of  \n",
       "count      4928.000000                  4928.000000  4928.000000  \n",
       "mean         15.793425                     0.031859     1.231331  \n",
       "std          20.248696                     0.175642     0.800381  \n",
       "min        -177.000000                     0.000000     1.000000  \n",
       "25%           6.000000                     0.000000     1.000000  \n",
       "50%          12.000000                     0.000000     1.000000  \n",
       "75%          20.000000                     0.000000     1.000000  \n",
       "max         500.000000                     1.000000     4.000000  "
      ]
     },
     "execution_count": 20,
     "metadata": {},
     "output_type": "execute_result"
    }
   ],
   "source": [
    "# running description to determine what might be irregular now that I've dropped nulls. \n",
    "# There's nothing to be eliminated based on outliers for this data. I am going to group all ages that belong in the \"too old\" group in with unnecessary\n",
    "# data because it's not really an outlier, but it's data that I don't need to include in my analysis. \n",
    "\n",
    "df.describe()"
   ]
  },
  {
   "cell_type": "code",
   "execution_count": 21,
   "metadata": {},
   "outputs": [
    {
     "data": {
      "text/plain": [
       "<Axes: ylabel='Frequency'>"
      ]
     },
     "execution_count": 21,
     "metadata": {},
     "output_type": "execute_result"
    },
    {
     "data": {
      "image/png": "[encoded data removed]",
      "text/plain": [
       "<Figure size 640x480 with 1 Axes>"
      ]
     },
     "metadata": {},
     "output_type": "display_data"
    }
   ],
   "source": [
    "df.plot.hist(column=\"session_title_id\")"
   ]
  },
  {
   "cell_type": "markdown",
   "metadata": {
    "azdata_cell_guid": "6f5b8ee0-bab3-44bc-958a-67d1e4c0407f"
   },
   "source": [
    "## Unnecessary Data\n",
    "\n",
    "Look for the different types of unnecessary data in your dataset and address it as needed. Make sure to use code comments to illustrate your thought process."
   ]
  },
  {
   "cell_type": "code",
   "execution_count": 16,
   "metadata": {
    "azdata_cell_guid": "e788a239-2fbf-41de-9bd3-19e52e3b187c"
   },
   "outputs": [
    {
     "data": {
      "text/plain": [
       "(4384, 39)"
      ]
     },
     "execution_count": 16,
     "metadata": {},
     "output_type": "execute_result"
    }
   ],
   "source": [
    "\n",
    "# removing all rows that correspond to data for programs with a minimum age over 18 because this is strictly a youth program focus and the EDA visualizations are much too complicated with that unecessary information included\n",
    "\n",
    "to_drop = df[df['min_age'] > 19].index #identifies the indices of that meet the condition and assigns them to \"to_drop\"\n",
    "# to_drop.shape #this allows me to check that the right rows are being identified before I actually drop them and mess up my dataframe! results is 544 which is less than I'd assumed I would return\n",
    "df.drop(to_drop, inplace=True) #this tells the main dataframe that this special gorup actually needs to be dropped now that they've been identified\n",
    "df.shape #this confirmed that the rows dropped from the previous total of 4928\n"
   ]
  },
  {
   "cell_type": "code",
   "execution_count": 10,
   "metadata": {},
   "outputs": [
    {
     "data": {
      "text/plain": [
       "Index(['course_id', 'barcode_number', 'ActivityTitle', 'ActivityDescription',\n",
       "       'BrochureSectionTitle', 'BrochureSectionDescription', 'session_year',\n",
       "       'session_title_id', 'session_title', 'course_status_id',\n",
       "       'booking_start_date', 'first_start_datetime', 'first_end_datetime',\n",
       "       'last_start_datetime', 'last_end_datetime', 'total_minutes',\n",
       "       'reg_start_date', 'min_registrants', 'max_registrants', 'num_reserved',\n",
       "       'num_registered', 'num_waitlisted', 'min_age', 'min_age_type',\n",
       "       'max_age', 'max_age_type', 'internet_display_date', 'CourseTitle',\n",
       "       'CourseDescription', 'Facility', 'CourseSite', 'ManagedBy',\n",
       "       'CourseDays', 'FEE', 'DataTransferred', 'reg_start_time',\n",
       "       'AvailableSpaces', 'allow_internet_registration', 'age_as_of'],\n",
       "      dtype='object')"
      ]
     },
     "execution_count": 10,
     "metadata": {},
     "output_type": "execute_result"
    }
   ],
   "source": [
    "df.columns"
   ]
  },
  {
   "cell_type": "code",
   "execution_count": 14,
   "metadata": {},
   "outputs": [],
   "source": [
    "# checked 2 initialcolumns for duplicates in case one is better to keep as a unique identifer. \n",
    "# No duplicates found, so I will keep course_id because the column header is a more clear description of the contents of the column than \"barcode\"\n",
    "\n",
    "# duplicates = df[df['barcode_number'].duplicated()]\n",
    "# print(duplicates)\n",
    "\n",
    "# duplicates = df[df['barcode_number'].duplicated()]\n",
    "# print(duplicates)"
   ]
  },
  {
   "cell_type": "code",
   "execution_count": 23,
   "metadata": {},
   "outputs": [
    {
     "data": {
      "text/plain": [
       "(4928, 29)"
      ]
     },
     "execution_count": 23,
     "metadata": {},
     "output_type": "execute_result"
    }
   ],
   "source": [
    "# finding some additional columns to drop so I have less clutter in the dataset when it's time to convert to the final presentation and visualizations.\n",
    "# each of the columns listed for dropping below contain data that is either repetitive of another column or will not impact the analysis I need to complete. \n",
    "# Most of them are specificly about registration availibility which is not applicable because the client I'm owkring with has its own registration processes and timelines. \n",
    "# Some of the content is still possibly a little redundant, like the to columns with descriptions, but if those two columns give slightly more specific informaiton to idetify something about one of the courses, I don't want to remove them. one appearst o be more of a marketing text and the other is a more straigh-forward description. \n",
    "\n",
    "seattle_clean = df.drop(['barcode_number','booking_start_date','course_status_id','DataTransferred','reg_start_time','session_year','last_start_datetime', 'last_end_datetime','FEE', 'internet_display_date'], axis=1)\n",
    "\n",
    "# this confirms the 10 columns were dropped from the previous total of 39\n",
    "seattle_clean.shape"
   ]
  },
  {
   "cell_type": "markdown",
   "metadata": {
    "azdata_cell_guid": "53e0cf94-c68a-4fa0-9849-9505a66bcce6"
   },
   "source": [
    "## Inconsistent Data\n",
    "\n",
    "Check for inconsistent data and address any that arises. As always, use code comments to illustrate your thought process."
   ]
  },
  {
   "cell_type": "code",
   "execution_count": 24,
   "metadata": {
    "azdata_cell_guid": "e9de6624-812a-43f8-8e20-93b4a49b091f"
   },
   "outputs": [
    {
     "name": "stdout",
     "output_type": "stream",
     "text": [
      "course_id                        int64\n",
      "ActivityTitle                   object\n",
      "ActivityDescription             object\n",
      "BrochureSectionTitle            object\n",
      "BrochureSectionDescription      object\n",
      "session_title_id                 int64\n",
      "session_title                   object\n",
      "first_start_datetime            object\n",
      "first_end_datetime              object\n",
      "total_minutes                    int64\n",
      "reg_start_date                  object\n",
      "min_registrants                  int64\n",
      "max_registrants                  int64\n",
      "num_reserved                     int64\n",
      "num_registered                   int64\n",
      "num_waitlisted                   int64\n",
      "min_age                          int64\n",
      "min_age_type                    object\n",
      "max_age                        float64\n",
      "max_age_type                    object\n",
      "CourseTitle                     object\n",
      "CourseDescription               object\n",
      "Facility                        object\n",
      "CourseSite                      object\n",
      "ManagedBy                       object\n",
      "CourseDays                      object\n",
      "AvailableSpaces                  int64\n",
      "allow_internet_registration      int64\n",
      "age_as_of                        int64\n",
      "dtype: object\n"
     ]
    }
   ],
   "source": [
    "# Used the datatypes view to detemrine if any of the columns seem to cinlucde the wrong datatype or a mixture of datatypes, \n",
    "# but based on what the different columns contains, the datatypes listed out below appear to be appropriate for the data. \n",
    "\n",
    "# I will not clean any data for inconsistency at this point. \n",
    "print(seattle_clean.dtypes)"
   ]
  },
  {
   "cell_type": "markdown",
   "metadata": {
    "azdata_cell_guid": "dedc0bfe-17d0-40b2-914f-2ddb54f9ce0d"
   },
   "source": [
    "## Summarize Your Results\n",
    "\n",
    "Make note of your answers to the following questions.\n",
    "\n",
    "1. Did you find all four types of dirty data in your dataset?\n",
    "No. The dataset was very clean to begin with, so I was mostly just getting data out of the way that was unecessary to my particular analysis. \n",
    "2. Did the process of cleaning your data give you new insights into your dataset?\n",
    "Nothing too different from what I discovered in the EDA. The significant difference in programs offered in Spring and Summer form Fall and Winter is surprising, so it will be interesting to dig into that mroe deeply. \n",
    "3. Is there anything you would like to make note of when it comes to manipulating the data and making visualizations?\n",
    "There are a lot of unique values that will probably make visualizations confusing if I am not very careful about using filters and keeping the settings fairly narrow to show exactly what I intend to show. A lot of this data is text-based rather than number-based, so a lot of conversions from the column to counts and sums will probably be necessary in order to see clear results. "
   ]
  }
 ],
 "metadata": {
  "kernelspec": {
   "display_name": "Python 3 (ipykernel)",
   "language": "python",
   "name": "python3"
  },
  "language_info": {
   "codemirror_mode": {
    "name": "ipython",
    "version": 3
   },
   "file_extension": ".py",
   "mimetype": "text/x-python",
   "name": "python",
   "nbconvert_exporter": "python",
   "pygments_lexer": "ipython3",
   "version": "3.12.5"
  }
 },
 "nbformat": 4,
 "nbformat_minor": 4
}
